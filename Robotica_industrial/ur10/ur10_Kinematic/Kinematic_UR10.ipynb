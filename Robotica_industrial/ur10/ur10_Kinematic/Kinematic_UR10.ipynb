{
 "cells": [
  {
   "attachments": {},
   "cell_type": "markdown",
   "metadata": {},
   "source": [
    "# Robot UR10"
   ]
  },
  {
   "attachments": {},
   "cell_type": "markdown",
   "metadata": {},
   "source": [
    "## Integrantes:"
   ]
  },
  {
   "attachments": {},
   "cell_type": "markdown",
   "metadata": {},
   "source": [
    "##### -Sebastian Quintero\n",
    "##### -Nicolas Andres Morales Moreno\n",
    "##### -Juan Pablo Pulido Angel\n",
    "##### -Daniel Felipe Puerta"
   ]
  },
  {
   "attachments": {},
   "cell_type": "markdown",
   "metadata": {},
   "source": [
    "## Parametros Denavit-Hatenberg"
   ]
  },
  {
   "cell_type": "code",
   "execution_count": 1,
   "metadata": {},
   "outputs": [],
   "source": [
    "import roboticstoolbox as rtb\n",
    "import numpy as np\n",
    "import sympy as sp\n",
    "from sympy import sin, cos, Matrix\n",
    "import math\n",
    "import matplotlib.pyplot as plt"
   ]
  },
  {
   "cell_type": "code",
   "execution_count": 2,
   "metadata": {},
   "outputs": [
    {
     "name": "stdout",
     "output_type": "stream",
     "text": [
      "Tabla de parametros DH\n"
     ]
    },
    {
     "data": {
      "text/plain": [
       "DHRobot: UR10 (by Universal Robotics), 6 joints (RRRRRR), dynamics, standard DH parameters\n",
       "┌────┬────────┬─────────┬────────┐\n",
       "│θⱼ  │   dⱼ   │   aⱼ    │   ⍺ⱼ   │\n",
       "├────┼────────┼─────────┼────────┤\n",
       "│ q1\u001b[0m │ 0.1273\u001b[0m │       0\u001b[0m │  90.0°\u001b[0m │\n",
       "│ q2\u001b[0m │      0\u001b[0m │  -0.612\u001b[0m │   0.0°\u001b[0m │\n",
       "│ q3\u001b[0m │      0\u001b[0m │ -0.5723\u001b[0m │   0.0°\u001b[0m │\n",
       "│ q4\u001b[0m │ 0.1639\u001b[0m │       0\u001b[0m │  90.0°\u001b[0m │\n",
       "│ q5\u001b[0m │ 0.1157\u001b[0m │       0\u001b[0m │ -90.0°\u001b[0m │\n",
       "│ q6\u001b[0m │ 0.0922\u001b[0m │       0\u001b[0m │   0.0°\u001b[0m │\n",
       "└────┴────────┴─────────┴────────┘\n",
       "\n",
       "┌─┬──┐\n",
       "└─┴──┘\n",
       "\n",
       "┌─────┬───────┬─────┬─────┬─────┬──────┬─────┐\n",
       "│name │ q0    │ q1  │ q2  │ q3  │ q4   │ q5  │\n",
       "├─────┼───────┼─────┼─────┼─────┼──────┼─────┤\n",
       "│  qr\u001b[0m │  180°\u001b[0m │  0°\u001b[0m │  0°\u001b[0m │  0°\u001b[0m │  90°\u001b[0m │  0°\u001b[0m │\n",
       "│  qz\u001b[0m │  0°\u001b[0m   │  0°\u001b[0m │  0°\u001b[0m │  0°\u001b[0m │  0°\u001b[0m  │  0°\u001b[0m │\n",
       "└─────┴───────┴─────┴─────┴─────┴──────┴─────┘"
      ]
     },
     "execution_count": 2,
     "metadata": {},
     "output_type": "execute_result"
    }
   ],
   "source": [
    "\n",
    "#Se define los parametros DH con la libreria roboticstoolbox.\n",
    "\n",
    "UR10=rtb.models.DH.UR10()\n",
    "\n",
    "print(\"Tabla de parametros DH\")\n",
    "UR10"
   ]
  },
  {
   "attachments": {},
   "cell_type": "markdown",
   "metadata": {},
   "source": [
    "## Cinematica Directa"
   ]
  },
  {
   "cell_type": "code",
   "execution_count": 3,
   "metadata": {},
   "outputs": [],
   "source": [
    "\n",
    "#Funcion que convierte los parametros DH a traves de la traformacion homogénea\n",
    "def Tdh(d, theta, a, alpha):\n",
    "    Tdh = np.array([[np.cos(theta), -np.cos(alpha)*np.sin(theta), np.sin(alpha)*np.sin(theta) , a*np.cos(theta) ],\n",
    "                    [np.sin(theta), np.cos(alpha)*np.cos(theta),-np.sin(alpha)*np.cos(theta) ,a*np.sin(theta) ],\n",
    "                    [0,np.sin(alpha),np.cos(alpha) ,d],\n",
    "                    [0,0, 0, 1]])\n",
    "    return Tdh\n",
    "\n",
    "#Funcion que resuelve la cinematica directa\n",
    "def Cinematica_directa_UR10(q, l1, l2, l3, l4, l5, l6):\n",
    "\n",
    "    T01 = Tdh(    l1,    q[0],   0,    np.pi/2)\n",
    "    T12 = Tdh(     0,    q[1],  -l2,          0)\n",
    "    T23 = Tdh(     0,    q[2],  -l3,          0)\n",
    "    T34 = Tdh(    l4,    q[3],    0,    np.pi/2)\n",
    "    T45 = Tdh(    l5,    q[4],    0,   -np.pi/2)\n",
    "    T56 = Tdh(    l6,    q[5],    0,          0)\n",
    "\n",
    "#Se multiplican las matrices de transformacion homogénea\n",
    "    Tf = T01@(T12)@(T23)@(T34)@(T45)@(T56)\n",
    "#Se toma la matriz de rotacion\n",
    "    M_posicion = Tf[:, -1]\n",
    "    return M_posicion"
   ]
  },
  {
   "cell_type": "code",
   "execution_count": 4,
   "metadata": {},
   "outputs": [
    {
     "data": {
      "text/plain": [
       "array([-1.00925673, -0.34730574, -0.37520657,  1.        ])"
      ]
     },
     "execution_count": 4,
     "metadata": {},
     "output_type": "execute_result"
    }
   ],
   "source": [
    "#Prueba de la cinematica directa\n",
    "\n",
    "l1 = 0.1273; l2 = 0.612; l3 = 0.5723; l4 = 0.1639 ; l5 = 0.1157; l6= 0.0922 \n",
    "q = [0.1, 0.2, 0.3, 0.4, 0.5, 0.6]\n",
    "Ejemplo= Cinematica_directa_UR10(q, l1, l2, l3, l4, l5,l6)\n",
    "Ejemplo"
   ]
  },
  {
   "attachments": {},
   "cell_type": "markdown",
   "metadata": {},
   "source": [
    "### Comprobación "
   ]
  },
  {
   "cell_type": "code",
   "execution_count": 5,
   "metadata": {},
   "outputs": [
    {
     "name": "stdout",
     "output_type": "stream",
     "text": [
      "Cinematica directa\n",
      "  \u001b[38;5;1m 0.0474  \u001b[0m \u001b[38;5;1m-0.9768  \u001b[0m \u001b[38;5;1m-0.2089  \u001b[0m \u001b[38;5;4m-1.009   \u001b[0m  \u001b[0m\n",
      "  \u001b[38;5;1m-0.3929  \u001b[0m \u001b[38;5;1m 0.1741  \u001b[0m \u001b[38;5;1m-0.903   \u001b[0m \u001b[38;5;4m-0.3473  \u001b[0m  \u001b[0m\n",
      "  \u001b[38;5;1m 0.9184  \u001b[0m \u001b[38;5;1m 0.1249  \u001b[0m \u001b[38;5;1m-0.3755  \u001b[0m \u001b[38;5;4m-0.3752  \u001b[0m  \u001b[0m\n",
      "  \u001b[38;5;244m 0       \u001b[0m \u001b[38;5;244m 0       \u001b[0m \u001b[38;5;244m 0       \u001b[0m \u001b[38;5;244m 1       \u001b[0m  \u001b[0m\n",
      "\n"
     ]
    }
   ],
   "source": [
    "#Se usa la libreria de Robotic Toolbox con los mismos datos que se usaron en el ejemplo\n",
    "S=UR10.fkine([0.1, 0.2, 0.3, 0.4, 0.5, 0.6])\n",
    "print(\"Cinematica directa\")\n",
    "print(S)"
   ]
  },
  {
   "attachments": {},
   "cell_type": "markdown",
   "metadata": {},
   "source": [
    "## Cinematica Inversa Metodo Newton"
   ]
  },
  {
   "attachments": {},
   "cell_type": "markdown",
   "metadata": {},
   "source": [
    "### Calculo del Jacobiano"
   ]
  },
  {
   "cell_type": "code",
   "execution_count": 6,
   "metadata": {},
   "outputs": [],
   "source": [
    "#Se define una funcion donde se hara la transformacion homogenenea a traves de Sympy \n",
    "\n",
    "def Tdh_2(d, theta, a, alpha):\n",
    "    Tdh = sp.Matrix([[sp.cos(theta), -sp.cos(alpha)*sp.sin(theta),  sp.sin(alpha)*sp.sin(theta), a*sp.cos(theta)],\n",
    "                     [sp.sin(theta),  sp.cos(alpha)*sp.cos(theta), -sp.sin(alpha)*sp.cos(theta), a*sp.sin(theta)],\n",
    "                     [0,        sp.sin(alpha),     sp.cos(alpha),      d],\n",
    "                     [0,         0,      0,      1]])\n",
    "    return Tdh\n",
    "#Se realiza la cinematica directa teniendo en cuenta los parametros DH y utilizando la funcion de matriz homogenea\n",
    "\n",
    "def cinematica_directa_UR10_2(q, l1, l2, l3, l4, l5,l6):\n",
    "\n",
    "    T01 = Tdh_2(    l1,    q[0],   l2,   -sp.pi/2)\n",
    "    T12 = Tdh_2(     0,    q[1],   l3,          0)\n",
    "    T23 = Tdh_2(     0,    q[2],   l4,    sp.pi/2)\n",
    "    T34 = Tdh_2(    l5,    q[3],    0,   -sp.pi/2)\n",
    "    T45 = Tdh_2(     0,    q[4],    0,    sp.pi/2)\n",
    "    T56 = Tdh_2(    l6,    q[5],    0,    sp.pi)\n",
    "\n",
    "    Tf = T01@(T12)@(T23)@(T34)@(T45)@(T56)\n",
    "    #Se toma la ultima columna la cual es la matriz de rotacion.\n",
    "    Ma_rotacion = Tf[:, -1]\n",
    "    return Ma_rotacion"
   ]
  },
  {
   "cell_type": "code",
   "execution_count": 7,
   "metadata": {},
   "outputs": [
    {
     "name": "stdout",
     "output_type": "stream",
     "text": [
      "Matrix([[l2*cos(q1) + l3*cos(q1)*cos(q2) - l4*sin(q2)*sin(q3)*cos(q1) + l4*cos(q1)*cos(q2)*cos(q3) + l5*(sin(q2)*cos(q1)*cos(q3) + sin(q3)*cos(q1)*cos(q2)) + l6*(((-sin(q2)*sin(q3)*cos(q1) + cos(q1)*cos(q2)*cos(q3))*cos(q4) - sin(q1)*sin(q4))*sin(q5) - (-sin(q2)*cos(q1)*cos(q3) - sin(q3)*cos(q1)*cos(q2))*cos(q5))], [l2*sin(q1) + l3*sin(q1)*cos(q2) - l4*sin(q1)*sin(q2)*sin(q3) + l4*sin(q1)*cos(q2)*cos(q3) + l5*(sin(q1)*sin(q2)*cos(q3) + sin(q1)*sin(q3)*cos(q2)) + l6*(((-sin(q1)*sin(q2)*sin(q3) + sin(q1)*cos(q2)*cos(q3))*cos(q4) + sin(q4)*cos(q1))*sin(q5) - (-sin(q1)*sin(q2)*cos(q3) - sin(q1)*sin(q3)*cos(q2))*cos(q5))], [l1 - l3*sin(q2) - l4*sin(q2)*cos(q3) - l4*sin(q3)*cos(q2) + l5*(-sin(q2)*sin(q3) + cos(q2)*cos(q3)) + l6*(-(sin(q2)*sin(q3) - cos(q2)*cos(q3))*cos(q5) + (-sin(q2)*cos(q3) - sin(q3)*cos(q2))*sin(q5)*cos(q4))], [1]])\n"
     ]
    }
   ],
   "source": [
    "q1, q2, q3, q4, q5, q6 = sp.symbols('q1 q2 q3 q4 q5 q6')\n",
    "l1, l2, l3, l4, l5, l6= sp.symbols('l1 l2 l3 l4 l5 l6')\n",
    "q = [q1,q2,q3,q4,q5,q6]\n",
    "Matriz_rotacion = cinematica_directa_UR10_2(q, l1, l2, l3, l4, l5, l6)\n",
    "print(Matriz_rotacion)"
   ]
  },
  {
   "cell_type": "code",
   "execution_count": 8,
   "metadata": {},
   "outputs": [
    {
     "data": {
      "text/latex": [
       "$\\displaystyle \\left[\\begin{matrix}- l_{2} \\sin{\\left(q_{1} \\right)} - l_{3} \\sin{\\left(q_{1} \\right)} \\cos{\\left(q_{2} \\right)} + l_{4} \\sin{\\left(q_{1} \\right)} \\sin{\\left(q_{2} \\right)} \\sin{\\left(q_{3} \\right)} - l_{4} \\sin{\\left(q_{1} \\right)} \\cos{\\left(q_{2} \\right)} \\cos{\\left(q_{3} \\right)} + l_{5} \\left(- \\sin{\\left(q_{1} \\right)} \\sin{\\left(q_{2} \\right)} \\cos{\\left(q_{3} \\right)} - \\sin{\\left(q_{1} \\right)} \\sin{\\left(q_{3} \\right)} \\cos{\\left(q_{2} \\right)}\\right) + l_{6} \\left(\\left(\\left(\\sin{\\left(q_{1} \\right)} \\sin{\\left(q_{2} \\right)} \\sin{\\left(q_{3} \\right)} - \\sin{\\left(q_{1} \\right)} \\cos{\\left(q_{2} \\right)} \\cos{\\left(q_{3} \\right)}\\right) \\cos{\\left(q_{4} \\right)} - \\sin{\\left(q_{4} \\right)} \\cos{\\left(q_{1} \\right)}\\right) \\sin{\\left(q_{5} \\right)} - \\left(\\sin{\\left(q_{1} \\right)} \\sin{\\left(q_{2} \\right)} \\cos{\\left(q_{3} \\right)} + \\sin{\\left(q_{1} \\right)} \\sin{\\left(q_{3} \\right)} \\cos{\\left(q_{2} \\right)}\\right) \\cos{\\left(q_{5} \\right)}\\right) & - l_{3} \\sin{\\left(q_{2} \\right)} \\cos{\\left(q_{1} \\right)} - l_{4} \\sin{\\left(q_{2} \\right)} \\cos{\\left(q_{1} \\right)} \\cos{\\left(q_{3} \\right)} - l_{4} \\sin{\\left(q_{3} \\right)} \\cos{\\left(q_{1} \\right)} \\cos{\\left(q_{2} \\right)} + l_{5} \\left(- \\sin{\\left(q_{2} \\right)} \\sin{\\left(q_{3} \\right)} \\cos{\\left(q_{1} \\right)} + \\cos{\\left(q_{1} \\right)} \\cos{\\left(q_{2} \\right)} \\cos{\\left(q_{3} \\right)}\\right) + l_{6} \\left(- \\left(\\sin{\\left(q_{2} \\right)} \\sin{\\left(q_{3} \\right)} \\cos{\\left(q_{1} \\right)} - \\cos{\\left(q_{1} \\right)} \\cos{\\left(q_{2} \\right)} \\cos{\\left(q_{3} \\right)}\\right) \\cos{\\left(q_{5} \\right)} + \\left(- \\sin{\\left(q_{2} \\right)} \\cos{\\left(q_{1} \\right)} \\cos{\\left(q_{3} \\right)} - \\sin{\\left(q_{3} \\right)} \\cos{\\left(q_{1} \\right)} \\cos{\\left(q_{2} \\right)}\\right) \\sin{\\left(q_{5} \\right)} \\cos{\\left(q_{4} \\right)}\\right) & - l_{4} \\sin{\\left(q_{2} \\right)} \\cos{\\left(q_{1} \\right)} \\cos{\\left(q_{3} \\right)} - l_{4} \\sin{\\left(q_{3} \\right)} \\cos{\\left(q_{1} \\right)} \\cos{\\left(q_{2} \\right)} + l_{5} \\left(- \\sin{\\left(q_{2} \\right)} \\sin{\\left(q_{3} \\right)} \\cos{\\left(q_{1} \\right)} + \\cos{\\left(q_{1} \\right)} \\cos{\\left(q_{2} \\right)} \\cos{\\left(q_{3} \\right)}\\right) + l_{6} \\left(- \\left(\\sin{\\left(q_{2} \\right)} \\sin{\\left(q_{3} \\right)} \\cos{\\left(q_{1} \\right)} - \\cos{\\left(q_{1} \\right)} \\cos{\\left(q_{2} \\right)} \\cos{\\left(q_{3} \\right)}\\right) \\cos{\\left(q_{5} \\right)} + \\left(- \\sin{\\left(q_{2} \\right)} \\cos{\\left(q_{1} \\right)} \\cos{\\left(q_{3} \\right)} - \\sin{\\left(q_{3} \\right)} \\cos{\\left(q_{1} \\right)} \\cos{\\left(q_{2} \\right)}\\right) \\sin{\\left(q_{5} \\right)} \\cos{\\left(q_{4} \\right)}\\right) & l_{6} \\left(- \\left(- \\sin{\\left(q_{2} \\right)} \\sin{\\left(q_{3} \\right)} \\cos{\\left(q_{1} \\right)} + \\cos{\\left(q_{1} \\right)} \\cos{\\left(q_{2} \\right)} \\cos{\\left(q_{3} \\right)}\\right) \\sin{\\left(q_{4} \\right)} - \\sin{\\left(q_{1} \\right)} \\cos{\\left(q_{4} \\right)}\\right) \\sin{\\left(q_{5} \\right)} & l_{6} \\left(\\left(\\left(- \\sin{\\left(q_{2} \\right)} \\sin{\\left(q_{3} \\right)} \\cos{\\left(q_{1} \\right)} + \\cos{\\left(q_{1} \\right)} \\cos{\\left(q_{2} \\right)} \\cos{\\left(q_{3} \\right)}\\right) \\cos{\\left(q_{4} \\right)} - \\sin{\\left(q_{1} \\right)} \\sin{\\left(q_{4} \\right)}\\right) \\cos{\\left(q_{5} \\right)} + \\left(- \\sin{\\left(q_{2} \\right)} \\cos{\\left(q_{1} \\right)} \\cos{\\left(q_{3} \\right)} - \\sin{\\left(q_{3} \\right)} \\cos{\\left(q_{1} \\right)} \\cos{\\left(q_{2} \\right)}\\right) \\sin{\\left(q_{5} \\right)}\\right)\\\\l_{2} \\cos{\\left(q_{1} \\right)} + l_{3} \\cos{\\left(q_{1} \\right)} \\cos{\\left(q_{2} \\right)} - l_{4} \\sin{\\left(q_{2} \\right)} \\sin{\\left(q_{3} \\right)} \\cos{\\left(q_{1} \\right)} + l_{4} \\cos{\\left(q_{1} \\right)} \\cos{\\left(q_{2} \\right)} \\cos{\\left(q_{3} \\right)} + l_{5} \\left(\\sin{\\left(q_{2} \\right)} \\cos{\\left(q_{1} \\right)} \\cos{\\left(q_{3} \\right)} + \\sin{\\left(q_{3} \\right)} \\cos{\\left(q_{1} \\right)} \\cos{\\left(q_{2} \\right)}\\right) + l_{6} \\left(\\left(\\left(- \\sin{\\left(q_{2} \\right)} \\sin{\\left(q_{3} \\right)} \\cos{\\left(q_{1} \\right)} + \\cos{\\left(q_{1} \\right)} \\cos{\\left(q_{2} \\right)} \\cos{\\left(q_{3} \\right)}\\right) \\cos{\\left(q_{4} \\right)} - \\sin{\\left(q_{1} \\right)} \\sin{\\left(q_{4} \\right)}\\right) \\sin{\\left(q_{5} \\right)} - \\left(- \\sin{\\left(q_{2} \\right)} \\cos{\\left(q_{1} \\right)} \\cos{\\left(q_{3} \\right)} - \\sin{\\left(q_{3} \\right)} \\cos{\\left(q_{1} \\right)} \\cos{\\left(q_{2} \\right)}\\right) \\cos{\\left(q_{5} \\right)}\\right) & - l_{3} \\sin{\\left(q_{1} \\right)} \\sin{\\left(q_{2} \\right)} - l_{4} \\sin{\\left(q_{1} \\right)} \\sin{\\left(q_{2} \\right)} \\cos{\\left(q_{3} \\right)} - l_{4} \\sin{\\left(q_{1} \\right)} \\sin{\\left(q_{3} \\right)} \\cos{\\left(q_{2} \\right)} + l_{5} \\left(- \\sin{\\left(q_{1} \\right)} \\sin{\\left(q_{2} \\right)} \\sin{\\left(q_{3} \\right)} + \\sin{\\left(q_{1} \\right)} \\cos{\\left(q_{2} \\right)} \\cos{\\left(q_{3} \\right)}\\right) + l_{6} \\left(- \\left(\\sin{\\left(q_{1} \\right)} \\sin{\\left(q_{2} \\right)} \\sin{\\left(q_{3} \\right)} - \\sin{\\left(q_{1} \\right)} \\cos{\\left(q_{2} \\right)} \\cos{\\left(q_{3} \\right)}\\right) \\cos{\\left(q_{5} \\right)} + \\left(- \\sin{\\left(q_{1} \\right)} \\sin{\\left(q_{2} \\right)} \\cos{\\left(q_{3} \\right)} - \\sin{\\left(q_{1} \\right)} \\sin{\\left(q_{3} \\right)} \\cos{\\left(q_{2} \\right)}\\right) \\sin{\\left(q_{5} \\right)} \\cos{\\left(q_{4} \\right)}\\right) & - l_{4} \\sin{\\left(q_{1} \\right)} \\sin{\\left(q_{2} \\right)} \\cos{\\left(q_{3} \\right)} - l_{4} \\sin{\\left(q_{1} \\right)} \\sin{\\left(q_{3} \\right)} \\cos{\\left(q_{2} \\right)} + l_{5} \\left(- \\sin{\\left(q_{1} \\right)} \\sin{\\left(q_{2} \\right)} \\sin{\\left(q_{3} \\right)} + \\sin{\\left(q_{1} \\right)} \\cos{\\left(q_{2} \\right)} \\cos{\\left(q_{3} \\right)}\\right) + l_{6} \\left(- \\left(\\sin{\\left(q_{1} \\right)} \\sin{\\left(q_{2} \\right)} \\sin{\\left(q_{3} \\right)} - \\sin{\\left(q_{1} \\right)} \\cos{\\left(q_{2} \\right)} \\cos{\\left(q_{3} \\right)}\\right) \\cos{\\left(q_{5} \\right)} + \\left(- \\sin{\\left(q_{1} \\right)} \\sin{\\left(q_{2} \\right)} \\cos{\\left(q_{3} \\right)} - \\sin{\\left(q_{1} \\right)} \\sin{\\left(q_{3} \\right)} \\cos{\\left(q_{2} \\right)}\\right) \\sin{\\left(q_{5} \\right)} \\cos{\\left(q_{4} \\right)}\\right) & l_{6} \\left(- \\left(- \\sin{\\left(q_{1} \\right)} \\sin{\\left(q_{2} \\right)} \\sin{\\left(q_{3} \\right)} + \\sin{\\left(q_{1} \\right)} \\cos{\\left(q_{2} \\right)} \\cos{\\left(q_{3} \\right)}\\right) \\sin{\\left(q_{4} \\right)} + \\cos{\\left(q_{1} \\right)} \\cos{\\left(q_{4} \\right)}\\right) \\sin{\\left(q_{5} \\right)} & l_{6} \\left(\\left(\\left(- \\sin{\\left(q_{1} \\right)} \\sin{\\left(q_{2} \\right)} \\sin{\\left(q_{3} \\right)} + \\sin{\\left(q_{1} \\right)} \\cos{\\left(q_{2} \\right)} \\cos{\\left(q_{3} \\right)}\\right) \\cos{\\left(q_{4} \\right)} + \\sin{\\left(q_{4} \\right)} \\cos{\\left(q_{1} \\right)}\\right) \\cos{\\left(q_{5} \\right)} + \\left(- \\sin{\\left(q_{1} \\right)} \\sin{\\left(q_{2} \\right)} \\cos{\\left(q_{3} \\right)} - \\sin{\\left(q_{1} \\right)} \\sin{\\left(q_{3} \\right)} \\cos{\\left(q_{2} \\right)}\\right) \\sin{\\left(q_{5} \\right)}\\right)\\\\0 & - l_{3} \\cos{\\left(q_{2} \\right)} + l_{4} \\sin{\\left(q_{2} \\right)} \\sin{\\left(q_{3} \\right)} - l_{4} \\cos{\\left(q_{2} \\right)} \\cos{\\left(q_{3} \\right)} + l_{5} \\left(- \\sin{\\left(q_{2} \\right)} \\cos{\\left(q_{3} \\right)} - \\sin{\\left(q_{3} \\right)} \\cos{\\left(q_{2} \\right)}\\right) + l_{6} \\left(\\left(\\sin{\\left(q_{2} \\right)} \\sin{\\left(q_{3} \\right)} - \\cos{\\left(q_{2} \\right)} \\cos{\\left(q_{3} \\right)}\\right) \\sin{\\left(q_{5} \\right)} \\cos{\\left(q_{4} \\right)} - \\left(\\sin{\\left(q_{2} \\right)} \\cos{\\left(q_{3} \\right)} + \\sin{\\left(q_{3} \\right)} \\cos{\\left(q_{2} \\right)}\\right) \\cos{\\left(q_{5} \\right)}\\right) & l_{4} \\sin{\\left(q_{2} \\right)} \\sin{\\left(q_{3} \\right)} - l_{4} \\cos{\\left(q_{2} \\right)} \\cos{\\left(q_{3} \\right)} + l_{5} \\left(- \\sin{\\left(q_{2} \\right)} \\cos{\\left(q_{3} \\right)} - \\sin{\\left(q_{3} \\right)} \\cos{\\left(q_{2} \\right)}\\right) + l_{6} \\left(\\left(\\sin{\\left(q_{2} \\right)} \\sin{\\left(q_{3} \\right)} - \\cos{\\left(q_{2} \\right)} \\cos{\\left(q_{3} \\right)}\\right) \\sin{\\left(q_{5} \\right)} \\cos{\\left(q_{4} \\right)} - \\left(\\sin{\\left(q_{2} \\right)} \\cos{\\left(q_{3} \\right)} + \\sin{\\left(q_{3} \\right)} \\cos{\\left(q_{2} \\right)}\\right) \\cos{\\left(q_{5} \\right)}\\right) & - l_{6} \\left(- \\sin{\\left(q_{2} \\right)} \\cos{\\left(q_{3} \\right)} - \\sin{\\left(q_{3} \\right)} \\cos{\\left(q_{2} \\right)}\\right) \\sin{\\left(q_{4} \\right)} \\sin{\\left(q_{5} \\right)} & l_{6} \\left(\\left(\\sin{\\left(q_{2} \\right)} \\sin{\\left(q_{3} \\right)} - \\cos{\\left(q_{2} \\right)} \\cos{\\left(q_{3} \\right)}\\right) \\sin{\\left(q_{5} \\right)} + \\left(- \\sin{\\left(q_{2} \\right)} \\cos{\\left(q_{3} \\right)} - \\sin{\\left(q_{3} \\right)} \\cos{\\left(q_{2} \\right)}\\right) \\cos{\\left(q_{4} \\right)} \\cos{\\left(q_{5} \\right)}\\right)\\end{matrix}\\right]$"
      ],
      "text/plain": [
       "Matrix([\n",
       "[-l2*sin(q1) - l3*sin(q1)*cos(q2) + l4*sin(q1)*sin(q2)*sin(q3) - l4*sin(q1)*cos(q2)*cos(q3) + l5*(-sin(q1)*sin(q2)*cos(q3) - sin(q1)*sin(q3)*cos(q2)) + l6*(((sin(q1)*sin(q2)*sin(q3) - sin(q1)*cos(q2)*cos(q3))*cos(q4) - sin(q4)*cos(q1))*sin(q5) - (sin(q1)*sin(q2)*cos(q3) + sin(q1)*sin(q3)*cos(q2))*cos(q5)), -l3*sin(q2)*cos(q1) - l4*sin(q2)*cos(q1)*cos(q3) - l4*sin(q3)*cos(q1)*cos(q2) + l5*(-sin(q2)*sin(q3)*cos(q1) + cos(q1)*cos(q2)*cos(q3)) + l6*(-(sin(q2)*sin(q3)*cos(q1) - cos(q1)*cos(q2)*cos(q3))*cos(q5) + (-sin(q2)*cos(q1)*cos(q3) - sin(q3)*cos(q1)*cos(q2))*sin(q5)*cos(q4)), -l4*sin(q2)*cos(q1)*cos(q3) - l4*sin(q3)*cos(q1)*cos(q2) + l5*(-sin(q2)*sin(q3)*cos(q1) + cos(q1)*cos(q2)*cos(q3)) + l6*(-(sin(q2)*sin(q3)*cos(q1) - cos(q1)*cos(q2)*cos(q3))*cos(q5) + (-sin(q2)*cos(q1)*cos(q3) - sin(q3)*cos(q1)*cos(q2))*sin(q5)*cos(q4)), l6*(-(-sin(q2)*sin(q3)*cos(q1) + cos(q1)*cos(q2)*cos(q3))*sin(q4) - sin(q1)*cos(q4))*sin(q5), l6*(((-sin(q2)*sin(q3)*cos(q1) + cos(q1)*cos(q2)*cos(q3))*cos(q4) - sin(q1)*sin(q4))*cos(q5) + (-sin(q2)*cos(q1)*cos(q3) - sin(q3)*cos(q1)*cos(q2))*sin(q5))],\n",
       "[l2*cos(q1) + l3*cos(q1)*cos(q2) - l4*sin(q2)*sin(q3)*cos(q1) + l4*cos(q1)*cos(q2)*cos(q3) + l5*(sin(q2)*cos(q1)*cos(q3) + sin(q3)*cos(q1)*cos(q2)) + l6*(((-sin(q2)*sin(q3)*cos(q1) + cos(q1)*cos(q2)*cos(q3))*cos(q4) - sin(q1)*sin(q4))*sin(q5) - (-sin(q2)*cos(q1)*cos(q3) - sin(q3)*cos(q1)*cos(q2))*cos(q5)), -l3*sin(q1)*sin(q2) - l4*sin(q1)*sin(q2)*cos(q3) - l4*sin(q1)*sin(q3)*cos(q2) + l5*(-sin(q1)*sin(q2)*sin(q3) + sin(q1)*cos(q2)*cos(q3)) + l6*(-(sin(q1)*sin(q2)*sin(q3) - sin(q1)*cos(q2)*cos(q3))*cos(q5) + (-sin(q1)*sin(q2)*cos(q3) - sin(q1)*sin(q3)*cos(q2))*sin(q5)*cos(q4)), -l4*sin(q1)*sin(q2)*cos(q3) - l4*sin(q1)*sin(q3)*cos(q2) + l5*(-sin(q1)*sin(q2)*sin(q3) + sin(q1)*cos(q2)*cos(q3)) + l6*(-(sin(q1)*sin(q2)*sin(q3) - sin(q1)*cos(q2)*cos(q3))*cos(q5) + (-sin(q1)*sin(q2)*cos(q3) - sin(q1)*sin(q3)*cos(q2))*sin(q5)*cos(q4)), l6*(-(-sin(q1)*sin(q2)*sin(q3) + sin(q1)*cos(q2)*cos(q3))*sin(q4) + cos(q1)*cos(q4))*sin(q5), l6*(((-sin(q1)*sin(q2)*sin(q3) + sin(q1)*cos(q2)*cos(q3))*cos(q4) + sin(q4)*cos(q1))*cos(q5) + (-sin(q1)*sin(q2)*cos(q3) - sin(q1)*sin(q3)*cos(q2))*sin(q5))],\n",
       "[                                                                                                                                                                                                                                                                                                                0,                                                                           -l3*cos(q2) + l4*sin(q2)*sin(q3) - l4*cos(q2)*cos(q3) + l5*(-sin(q2)*cos(q3) - sin(q3)*cos(q2)) + l6*((sin(q2)*sin(q3) - cos(q2)*cos(q3))*sin(q5)*cos(q4) - (sin(q2)*cos(q3) + sin(q3)*cos(q2))*cos(q5)),                                                                    l4*sin(q2)*sin(q3) - l4*cos(q2)*cos(q3) + l5*(-sin(q2)*cos(q3) - sin(q3)*cos(q2)) + l6*((sin(q2)*sin(q3) - cos(q2)*cos(q3))*sin(q5)*cos(q4) - (sin(q2)*cos(q3) + sin(q3)*cos(q2))*cos(q5)),                                     -l6*(-sin(q2)*cos(q3) - sin(q3)*cos(q2))*sin(q4)*sin(q5),                                                      l6*((sin(q2)*sin(q3) - cos(q2)*cos(q3))*sin(q5) + (-sin(q2)*cos(q3) - sin(q3)*cos(q2))*cos(q4)*cos(q5))]])"
      ]
     },
     "execution_count": 8,
     "metadata": {},
     "output_type": "execute_result"
    }
   ],
   "source": [
    "#Se toma la matriz de rotacion generada por la funcion de cinematica directa y se le aplica el jacobiano.\n",
    "q1, q2, q3, q4, q5, q6=sp.symbols(\"q1 q2 q3 q4 q5 q6\")\n",
    "l1, l2, l3, l4, l5, l6=sp.symbols(\"l1 l2 l3 l4 l5 l6\")\n",
    "\n",
    "x = Matriz_rotacion[0,:]\n",
    "y = Matriz_rotacion[1,:]\n",
    "z = Matriz_rotacion[2,:]\n",
    "X = Matrix([x,y,z])\n",
    "Y = Matrix([q1, q2, q3, q4, q5])\n",
    "\n",
    "Jacobiano = X.jacobian(Y)\n",
    "Jacobiano"
   ]
  },
  {
   "attachments": {},
   "cell_type": "markdown",
   "metadata": {},
   "source": [
    "### Cinematica Inversa"
   ]
  },
  {
   "cell_type": "code",
   "execution_count": 9,
   "metadata": {},
   "outputs": [],
   "source": [
    "def cinematica_inversa_Newton(Xdeseado, Qinicial, L, max_iter=100, epsilon=1e-4):\n",
    "    \n",
    "    q = Qinicial.copy()\n",
    "    \n",
    "    ee = []\n",
    "    q1, q2, q3,q4,q5 = sp.symbols('q1 q2 q3 q4 q5')\n",
    "    l1, l2, l3, l4,l5, l6= sp.symbols('l1 l2 l3 l4 l5 l6')\n",
    "    \n",
    "    \n",
    "    for i in range(max_iter):    \n",
    "        x = l2*cos(q1) + l3*cos(q1)*cos(q2) - l4*sin(q2)*sin(q3)*cos(q1) + l4*cos(q1)*cos(q2)*cos(q3) + l5*(sin(q2)*cos(q1)*cos(q3) + sin(q3)*cos(q1)*cos(q2)) + l6*(((-sin(q2)*sin(q3)*cos(q1) + cos(q1)*cos(q2)*cos(q3))*cos(q4) - sin(q1)*sin(q4))*sin(q5) - (-sin(q2)*cos(q1)*cos(q3) - sin(q3)*cos(q1)*cos(q2))*cos(q5))\n",
    "        y = l2*sin(q1) + l3*sin(q1)*cos(q2) - l4*sin(q1)*sin(q2)*sin(q3) + l4*sin(q1)*cos(q2)*cos(q3) + l5*(sin(q1)*sin(q2)*cos(q3) + sin(q1)*sin(q3)*cos(q2)) + l6*(((-sin(q1)*sin(q2)*sin(q3) + sin(q1)*cos(q2)*cos(q3))*cos(q4) + sin(q4)*cos(q1))*sin(q5) - (-sin(q1)*sin(q2)*cos(q3) - sin(q1)*sin(q3)*cos(q2))*cos(q5))\n",
    "        z = l1 - l3*sin(q2) - l4*sin(q2)*cos(q3) - l4*sin(q3)*cos(q2) + l5*(-sin(q2)*sin(q3) + cos(q2)*cos(q3)) + l6*(-(sin(q2)*sin(q3) - cos(q2)*cos(q3))*cos(q5) + (-sin(q2)*cos(q3) - sin(q3)*cos(q2))*sin(q5)*cos(q4))\n",
    "\n",
    "\n",
    "        X = Matrix([x,y,z])\n",
    "        Y = Matrix([q1,q2,q3,q4,q5])\n",
    "\n",
    "        J = X.jacobian(Y).subs([(q1,q[0]), (q2,q[1]),(q3,q[2]),(q4,q[3]), (q5, q[4]), (l1, L[0]), (l2,L[1]), (l3, L[2]), (l4, L[3]), (l5, L[4]),(l6, L[5])])\n",
    "\n",
    "        Ja = np.array(J).astype('float64')\n",
    "        \n",
    "        x_np = np.array(x.subs([(q1,q[0]), (q2,q[1]),(q3,q[2]),(q4,q[3]), (q5, q[4]), (l1, L[0]), (l2,L[1]), (l3, L[2]), (l4, L[3]), (l5, L[4]),(l6, L[5])])).astype('float64')\n",
    "        y_np = np.array(y.subs([(q1,q[0]), (q2,q[1]),(q3,q[2]),(q4,q[3]), (q5, q[4]), (l1, L[0]), (l2,L[1]), (l3, L[2]), (l4, L[3]), (l5, L[4]),(l6, L[5])])).astype('float64')\n",
    "        z_np = np.array(z.subs([(q1,q[0]), (q2,q[1]),(q3,q[2]),(q4,q[3]), (q5, q[4]), (l1, L[0]), (l2,L[1]), (l3, L[2]), (l4, L[3]), (l5, L[4]),(l6, L[5])])).astype('float64')\n",
    "        \n",
    "        f = np.array([x_np, y_np, z_np])\n",
    "        \n",
    "        e = Xdeseado-f\n",
    "    \n",
    "        q = q + np.dot(np.linalg.pinv(Ja), e)\n",
    "        \n",
    "        enorm = np.linalg.norm(e)\n",
    "        print(\"Error en la iteración {}: {}\".format(i, np.round(enorm,4)))\n",
    "        ee.append(enorm)  \n",
    "\n",
    "        if (enorm < epsilon):\n",
    "            break\n",
    "    return q, ee"
   ]
  },
  {
   "cell_type": "code",
   "execution_count": 10,
   "metadata": {},
   "outputs": [
    {
     "name": "stdout",
     "output_type": "stream",
     "text": [
      "Error en la iteración 0: 2.5656\n",
      "Error en la iteración 1: 1.1087\n",
      "Error en la iteración 2: 1.231\n",
      "Error en la iteración 3: 1.3208\n",
      "Error en la iteración 4: 1.4607\n",
      "Error en la iteración 5: 1.6671\n",
      "Error en la iteración 6: 1.314\n",
      "Error en la iteración 7: 0.9219\n",
      "Error en la iteración 8: 0.7089\n",
      "Error en la iteración 9: 0.358\n",
      "Error en la iteración 10: 0.5867\n",
      "Error en la iteración 11: 0.3765\n",
      "Error en la iteración 12: 0.1369\n",
      "Error en la iteración 13: 0.1274\n",
      "Error en la iteración 14: 0.0168\n",
      "Error en la iteración 15: 0.0003\n",
      "Error en la iteración 16: 0.0\n",
      "\n",
      "Valores articulares obtenidos: [  3.3536  -5.8836 -19.9745  -6.3153  -8.9883]\n"
     ]
    }
   ],
   "source": [
    "# Prueba de la cinemática inversa\n",
    "\n",
    "l1 = 0.1273; l2 = 0.612 ; l3 = 0.5723; l4 = 0.1639; l5 = 0.1157; l6=0.0922\n",
    "L = np.array([l1, l2, l3,l4, l5, l6])\n",
    "# Valor articular inicial\n",
    "qinit = np.array([0, 0, 0, 0, 0])\n",
    "\n",
    "# Valor x,y deseado (en el espacio cartesiano)\n",
    "xd = np.array([-1.184 , -0.2561, 0.0116])\n",
    "# Hiperparámetros\n",
    "epsilon = 1e-4         # Condición para el término\n",
    "max_iteraciones = 100000  # Máximo número de iteraciones\n",
    " \n",
    "# Cinemática Inversa\n",
    "q, e = cinematica_inversa_Newton(xd, qinit, L, max_iteraciones, epsilon)\n",
    "print(\"\\nValores articulares obtenidos:\", np.round(q,4))"
   ]
  },
  {
   "cell_type": "code",
   "execution_count": 11,
   "metadata": {},
   "outputs": [
    {
     "data": {
      "image/png": "[encoded data removed]",
      "text/plain": [
       "<Figure size 640x480 with 1 Axes>"
      ]
     },
     "metadata": {},
     "output_type": "display_data"
    }
   ],
   "source": [
    "plt.plot(e,'b')\n",
    "plt.plot(e,'b.')\n",
    "plt.title(\"Evolución del error\"); plt.grid()\n",
    "plt.xlabel(\"Número de iteraciones\"); plt.ylabel(\"Norma del error\");"
   ]
  },
  {
   "attachments": {},
   "cell_type": "markdown",
   "metadata": {},
   "source": [
    "### Comprobacion"
   ]
  },
  {
   "cell_type": "code",
   "execution_count": 12,
   "metadata": {},
   "outputs": [
    {
     "data": {
      "text/plain": [
       "  \u001b[38;5;1m 1       \u001b[0m \u001b[38;5;1m 0       \u001b[0m \u001b[38;5;1m 0       \u001b[0m \u001b[38;5;4m-1.184   \u001b[0m  \u001b[0m\n",
       "  \u001b[38;5;1m 0       \u001b[0m \u001b[38;5;1m 0       \u001b[0m \u001b[38;5;1m-1       \u001b[0m \u001b[38;5;4m-0.2561  \u001b[0m  \u001b[0m\n",
       "  \u001b[38;5;1m 0       \u001b[0m \u001b[38;5;1m 1       \u001b[0m \u001b[38;5;1m 0       \u001b[0m \u001b[38;5;4m 0.0116  \u001b[0m  \u001b[0m\n",
       "  \u001b[38;5;244m 0       \u001b[0m \u001b[38;5;244m 0       \u001b[0m \u001b[38;5;244m 0       \u001b[0m \u001b[38;5;244m 1       \u001b[0m  \u001b[0m\n"
      ]
     },
     "execution_count": 12,
     "metadata": {},
     "output_type": "execute_result"
    }
   ],
   "source": [
    "S= UR10.fkine([0, 0, 0, 0, 0, 0])\n",
    "S"
   ]
  },
  {
   "cell_type": "code",
   "execution_count": 13,
   "metadata": {},
   "outputs": [
    {
     "data": {
      "text/plain": [
       "  \u001b[38;5;1m 0.7327  \u001b[0m \u001b[38;5;1m-0.6717  \u001b[0m \u001b[38;5;1m-0.1096  \u001b[0m \u001b[38;5;4m 1.003   \u001b[0m  \u001b[0m\n",
       "  \u001b[38;5;1m-0.2747  \u001b[0m \u001b[38;5;1m-0.1446  \u001b[0m \u001b[38;5;1m-0.9506  \u001b[0m \u001b[38;5;4m 0.2981  \u001b[0m  \u001b[0m\n",
       "  \u001b[38;5;1m 0.6227  \u001b[0m \u001b[38;5;1m 0.7266  \u001b[0m \u001b[38;5;1m-0.2905  \u001b[0m \u001b[38;5;4m 0.158   \u001b[0m  \u001b[0m\n",
       "  \u001b[38;5;244m 0       \u001b[0m \u001b[38;5;244m 0       \u001b[0m \u001b[38;5;244m 0       \u001b[0m \u001b[38;5;244m 1       \u001b[0m  \u001b[0m\n"
      ]
     },
     "execution_count": 13,
     "metadata": {},
     "output_type": "execute_result"
    }
   ],
   "source": [
    "T = UR10.fkine([3.3536, -5.8836 , -19.9745, -6.3153, -8.9883,0])\n",
    "T"
   ]
  },
  {
   "cell_type": "markdown",
   "metadata": {},
   "source": [
    "## URDF"
   ]
  },
  {
   "cell_type": "code",
   "execution_count": 14,
   "metadata": {},
   "outputs": [
    {
     "data": {
      "text/plain": [
       "ERobot: UR10 (by Universal Robotics), 6 joints (RRRRRR), 3 branches, dynamics, geometry, collision\n",
       "┌─────┬────────────────┬───────┬────────────────┬──────────────────────────────────────────┐\n",
       "│link │      link      │ joint │     parent     │           ETS: parent to link            │\n",
       "├─────┼────────────────┼───────┼────────────────┼──────────────────────────────────────────┤\n",
       "│   0\u001b[0m │ \u001b[38;5;4mworld\u001b[0m          │      \u001b[0m │ BASE\u001b[0m           │ \u001b[0m                                         │\n",
       "│   1\u001b[0m │ \u001b[38;5;4mbase_link\u001b[0m      │      \u001b[0m │ world\u001b[0m          │ SE3()\u001b[0m                                    │\n",
       "│   2\u001b[0m │ shoulder_link\u001b[0m  │     0\u001b[0m │ base_link\u001b[0m      │ SE3(0, 0, 0.1273) ⊕ Rz(q0)\u001b[0m               │\n",
       "│   3\u001b[0m │ upper_arm_link\u001b[0m │     1\u001b[0m │ shoulder_link\u001b[0m  │ SE3(0, 0.2209, 0; 0°, 90°, -0°) ⊕ Ry(q1)\u001b[0m │\n",
       "│   4\u001b[0m │ forearm_link\u001b[0m   │     2\u001b[0m │ upper_arm_link\u001b[0m │ SE3(0, -0.1719, 0.612) ⊕ Ry(q2)\u001b[0m          │\n",
       "│   5\u001b[0m │ wrist_1_link\u001b[0m   │     3\u001b[0m │ forearm_link\u001b[0m   │ SE3(0, 0, 0.5723; 0°, 90°, -0°) ⊕ Ry(q3)\u001b[0m │\n",
       "│   6\u001b[0m │ wrist_2_link\u001b[0m   │     4\u001b[0m │ wrist_1_link\u001b[0m   │ SE3(0, 0.1149, 0) ⊕ Rz(q4)\u001b[0m               │\n",
       "│   7\u001b[0m │ wrist_3_link\u001b[0m   │     5\u001b[0m │ wrist_2_link\u001b[0m   │ SE3(0, 0, 0.1157) ⊕ Ry(q5)\u001b[0m               │\n",
       "│   8\u001b[0m │ \u001b[38;5;4m@ee_link\u001b[0m       │      \u001b[0m │ wrist_3_link\u001b[0m   │ SE3(0, 0.0922, 0; 0°, -0°, 90°)\u001b[0m          │\n",
       "│   9\u001b[0m │ \u001b[38;5;4m@tool0\u001b[0m         │      \u001b[0m │ wrist_3_link\u001b[0m   │ SE3(0, 0.0922, 0; -90°, -0°, 0°)\u001b[0m         │\n",
       "│  10\u001b[0m │ \u001b[38;5;4m@base\u001b[0m          │      \u001b[0m │ base_link\u001b[0m      │ SE3(0°, -0°, -180°)\u001b[0m                      │\n",
       "└─────┴────────────────┴───────┴────────────────┴──────────────────────────────────────────┘\n",
       "\n",
       "┌─────┬───────┬─────┬─────┬─────┬──────┬─────┐\n",
       "│name │ q0    │ q1  │ q2  │ q3  │ q4   │ q5  │\n",
       "├─────┼───────┼─────┼─────┼─────┼──────┼─────┤\n",
       "│  qr\u001b[0m │  180°\u001b[0m │  0°\u001b[0m │  0°\u001b[0m │  0°\u001b[0m │  90°\u001b[0m │  0°\u001b[0m │\n",
       "│  qz\u001b[0m │  0°\u001b[0m   │  0°\u001b[0m │  0°\u001b[0m │  0°\u001b[0m │  0°\u001b[0m  │  0°\u001b[0m │\n",
       "└─────┴───────┴─────┴─────┴─────┴──────┴─────┘"
      ]
     },
     "execution_count": 14,
     "metadata": {},
     "output_type": "execute_result"
    }
   ],
   "source": [
    "R_UR10=rtb.models.URDF.UR10()\n",
    "R_UR10"
   ]
  },
  {
   "cell_type": "code",
   "execution_count": 15,
   "metadata": {},
   "outputs": [
    {
     "data": {
      "text/plain": [
       "  \u001b[38;5;1m-1       \u001b[0m \u001b[38;5;1m 0       \u001b[0m \u001b[38;5;1m 0       \u001b[0m \u001b[38;5;4m 1.184   \u001b[0m  \u001b[0m\n",
       "  \u001b[38;5;1m 0       \u001b[0m \u001b[38;5;1m 0       \u001b[0m \u001b[38;5;1m 1       \u001b[0m \u001b[38;5;4m 0.2561  \u001b[0m  \u001b[0m\n",
       "  \u001b[38;5;1m 0       \u001b[0m \u001b[38;5;1m 1       \u001b[0m \u001b[38;5;1m 0       \u001b[0m \u001b[38;5;4m 0.0116  \u001b[0m  \u001b[0m\n",
       "  \u001b[38;5;244m 0       \u001b[0m \u001b[38;5;244m 0       \u001b[0m \u001b[38;5;244m 0       \u001b[0m \u001b[38;5;244m 1       \u001b[0m  \u001b[0m\n"
      ]
     },
     "execution_count": 15,
     "metadata": {},
     "output_type": "execute_result"
    }
   ],
   "source": [
    "T=R_UR10.fkine(R_UR10.qz, end=\"tool0\")\n",
    "T"
   ]
  },
  {
   "cell_type": "code",
   "execution_count": 16,
   "metadata": {},
   "outputs": [
    {
     "data": {
      "text/plain": [
       "Swift backend, t = 0.05, scene:\n",
       "  UR10"
      ]
     },
     "execution_count": 16,
     "metadata": {},
     "output_type": "execute_result"
    }
   ],
   "source": [
    "R_UR10.plot(R_UR10.qz,backend=\"swift\")"
   ]
  }
 ],
 "metadata": {
  "kernelspec": {
   "display_name": "Python 3.10.0 64-bit",
   "language": "python",
   "name": "python3"
  },
  "language_info": {
   "codemirror_mode": {
    "name": "ipython",
    "version": 3
   },
   "file_extension": ".py",
   "mimetype": "text/x-python",
   "name": "python",
   "nbconvert_exporter": "python",
   "pygments_lexer": "ipython3",
   "version": "3.10.0"
  },
  "orig_nbformat": 4,
  "vscode": {
   "interpreter": {
    "hash": "8465ca21aa692a3e0400c9d8d186255a220bdc6ceb56c50716990269e1c91956"
   }
  }
 },
 "nbformat": 4,
 "nbformat_minor": 2
}
